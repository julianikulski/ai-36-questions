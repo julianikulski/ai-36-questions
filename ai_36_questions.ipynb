{
  "nbformat": 4,
  "nbformat_minor": 0,
  "metadata": {
    "colab": {
      "name": "ai_36_questions.ipynb",
      "provenance": [],
      "collapsed_sections": [],
      "machine_shape": "hm",
      "authorship_tag": "ABX9TyNeTCceXkAxbvFsZ427Okmi",
      "include_colab_link": true
    },
    "kernelspec": {
      "name": "python3",
      "display_name": "Python 3"
    },
    "language_info": {
      "name": "python"
    },
    "accelerator": "GPU"
  },
  "cells": [
    {
      "cell_type": "markdown",
      "metadata": {
        "id": "view-in-github",
        "colab_type": "text"
      },
      "source": [
        "<a href=\"https://colab.research.google.com/github/julianikulski/ai-36-questions/blob/main/ai_36_questions.ipynb\" target=\"_parent\"><img src=\"https://colab.research.google.com/assets/colab-badge.svg\" alt=\"Open In Colab\"/></a>"
      ]
    },
    {
      "cell_type": "markdown",
      "metadata": {
        "id": "UTe_F5EI7CkD"
      },
      "source": [
        "# Falling in love with AI\n",
        "I asked DialoGPT and BlenderBot the 36 questions to fall in love. Here is what they said. The results of this Q&A and some details on the two models are published on my Medium blog."
      ]
    },
    {
      "cell_type": "code",
      "metadata": {
        "colab": {
          "base_uri": "https://localhost:8080/"
        },
        "id": "8b0d45Kn7Uon",
        "outputId": "1cd1b3e3-9ffe-40f4-d309-5f34cccea9b5"
      },
      "source": [
        "# connecting to Google Drive to access files\n",
        "from google.colab import drive\n",
        "drive.mount('/content/drive')\n"
      ],
      "execution_count": 15,
      "outputs": [
        {
          "output_type": "stream",
          "text": [
            "Drive already mounted at /content/drive; to attempt to forcibly remount, call drive.mount(\"/content/drive\", force_remount=True).\n"
          ],
          "name": "stdout"
        }
      ]
    },
    {
      "cell_type": "code",
      "metadata": {
        "id": "K1iyghOR7g9k"
      },
      "source": [
        "# install transformers library\n",
        "!pip install transformers &> /dev/null \n"
      ],
      "execution_count": 16,
      "outputs": []
    },
    {
      "cell_type": "code",
      "metadata": {
        "id": "N_FlwVXI7OqK"
      },
      "source": [
        "# import packages\n",
        "import numpy as np\n",
        "import pandas as pd\n",
        "\n",
        "from transformers import BlenderbotTokenizer, BlenderbotForConditionalGeneration, pipeline, Conversation\n"
      ],
      "execution_count": 17,
      "outputs": []
    },
    {
      "cell_type": "markdown",
      "metadata": {
        "id": "v61svYsgvI1Z"
      },
      "source": [
        "## Read in the data"
      ]
    },
    {
      "cell_type": "code",
      "metadata": {
        "colab": {
          "base_uri": "https://localhost:8080/",
          "height": 204
        },
        "id": "3fZq1xIlDcgd",
        "outputId": "6ac6a20c-591f-42f2-9218-badf78bcad43"
      },
      "source": [
        "# read in the questions file\n",
        "questions_df = pd.read_excel('/content/drive/MyDrive/coding-projects/36_questions.xlsx')\n",
        "questions_df.head()\n"
      ],
      "execution_count": 18,
      "outputs": [
        {
          "output_type": "execute_result",
          "data": {
            "text/html": [
              "<div>\n",
              "<style scoped>\n",
              "    .dataframe tbody tr th:only-of-type {\n",
              "        vertical-align: middle;\n",
              "    }\n",
              "\n",
              "    .dataframe tbody tr th {\n",
              "        vertical-align: top;\n",
              "    }\n",
              "\n",
              "    .dataframe thead th {\n",
              "        text-align: right;\n",
              "    }\n",
              "</style>\n",
              "<table border=\"1\" class=\"dataframe\">\n",
              "  <thead>\n",
              "    <tr style=\"text-align: right;\">\n",
              "      <th></th>\n",
              "      <th>questions</th>\n",
              "    </tr>\n",
              "  </thead>\n",
              "  <tbody>\n",
              "    <tr>\n",
              "      <th>0</th>\n",
              "      <td>If you could invite anyone in the world to din...</td>\n",
              "    </tr>\n",
              "    <tr>\n",
              "      <th>1</th>\n",
              "      <td>Would you like to be famous? In what way?</td>\n",
              "    </tr>\n",
              "    <tr>\n",
              "      <th>2</th>\n",
              "      <td>Before making a telephone call, do you ever re...</td>\n",
              "    </tr>\n",
              "    <tr>\n",
              "      <th>3</th>\n",
              "      <td>What would constitute a “perfect” day for you?</td>\n",
              "    </tr>\n",
              "    <tr>\n",
              "      <th>4</th>\n",
              "      <td>When did you last sing to yourself? To someone...</td>\n",
              "    </tr>\n",
              "  </tbody>\n",
              "</table>\n",
              "</div>"
            ],
            "text/plain": [
              "                                           questions\n",
              "0  If you could invite anyone in the world to din...\n",
              "1          Would you like to be famous? In what way?\n",
              "2  Before making a telephone call, do you ever re...\n",
              "3     What would constitute a “perfect” day for you?\n",
              "4  When did you last sing to yourself? To someone..."
            ]
          },
          "metadata": {
            "tags": []
          },
          "execution_count": 18
        }
      ]
    },
    {
      "cell_type": "markdown",
      "metadata": {
        "id": "wqBDlInXvQTC"
      },
      "source": [
        "## DialoGPT"
      ]
    },
    {
      "cell_type": "code",
      "metadata": {
        "id": "RWFBd6otAtt5"
      },
      "source": [
        "# instantiate the conversational pipeline with DialoGPT-large\n",
        "conversational_pipeline_dialogpt = pipeline('conversational', model='microsoft/DialoGPT-large', device=0)\n"
      ],
      "execution_count": 19,
      "outputs": []
    },
    {
      "cell_type": "markdown",
      "metadata": {
        "id": "tgQgX11ZdcKG"
      },
      "source": [
        "I will exclude question 34 because the answer DialoGPT gave was pretty dark - maybe even toxic - and I want to keep this question-answer project light and not disseminate any (more) dark language on the internet."
      ]
    },
    {
      "cell_type": "code",
      "metadata": {
        "colab": {
          "base_uri": "https://localhost:8080/"
        },
        "id": "dJjFUSysPbYD",
        "outputId": "c31e6e0c-767b-4a72-bcc5-07c4640290d3"
      },
      "source": [
        "# iterate through all questions and have DialoGPT generate answers\n",
        "for index, question in questions_df.iterrows():\n",
        "    if index+1 == 34:\n",
        "        pass\n",
        "    else:\n",
        "        conversation = Conversation(question.values[0])\n",
        "        print(index+1, conversational_pipeline_dialogpt(conversation, pad_token_id=50256))\n"
      ],
      "execution_count": 20,
      "outputs": [
        {
          "output_type": "stream",
          "text": [
            "1 Conversation id: 0ffe9a34-461e-416b-a168-15bb8e220ecf \n",
            "user >> If you could invite anyone in the world to dinner, who would it be? \n",
            "bot >> I'd invite myself to dinner. \n",
            "\n",
            "2 Conversation id: 9f5ea5ba-68c4-4113-b8ef-77a88fad652a \n",
            "user >> Would you like to be famous? In what way? \n",
            "bot >> I'd like to be famous in the way that I'm famous. \n",
            "\n",
            "3 Conversation id: 130856ff-0920-4d72-8d85-3af5b09eff5f \n",
            "user >> Before making a telephone call, do you ever rehearse what you are going to say? Why? \n",
            "bot >> I don't rehearse, but I do prepare. \n",
            "\n",
            "4 Conversation id: a197dc60-9eb3-4168-9002-180cd58b1aec \n",
            "user >> What would constitute a “perfect” day for you? \n",
            "bot >> I would say a day that I feel like I have achieved something. \n",
            "\n",
            "5 Conversation id: 7521b6c7-51b5-439a-8907-cb55872de9fd \n",
            "user >> When did you last sing to yourself? To someone else? \n",
            "bot >> I sing to myself all the time. \n",
            "\n",
            "6 Conversation id: e66e4814-470a-42c3-b2f9-04a60e37ade5 \n",
            "user >> If you were able to live to the age of 90 and retain either the mind or body of a 30 year old for the last 60 years of your life, which would you want? \n",
            "bot >> I'd want to be able to live to the age of 90. \n",
            "\n",
            "7 Conversation id: 6d6867ac-86fc-448e-807d-17dcc2b2aabb \n",
            "user >> Do you have a secret hunch about how you will die? \n",
            "bot >> I don't know. I don't know. I don't know. I don't know. I don't know. I don't know. I don't know. I don't know. \n",
            "\n",
            "8 Conversation id: 49b466a0-c3e0-4069-a619-b9d499089649 \n",
            "user >> Name three things you and your partner appear to have in common. \n",
            "bot >> I'm a woman \n",
            "\n",
            "9 Conversation id: 8d105b59-690b-4525-92c2-fa4c643f6fdc \n",
            "user >> For what in your life do you feel most grateful? \n",
            "bot >> I don't know. I guess I just feel like I have a lot of things to be thankful for. \n",
            "\n",
            "10 Conversation id: 5f0c76c5-dbef-4f72-9317-f65651176ecd \n",
            "user >> If you could change anything about the way you were raised, what would it be? \n",
            "bot >> I would have to say that I would have to change my life. \n",
            "\n",
            "11 Conversation id: 8156f586-6b42-4d89-9826-f9ae1586e4b5 \n",
            "user >> Take four minutes and tell your partner your life story in as much detail as possible. \n",
            "bot >> I'm not sure if I want to know. \n",
            "\n",
            "12 Conversation id: 2064aa4e-ec71-403a-85d9-839f91bfdca3 \n",
            "user >> If you could wake up tomorrow having gained any one quality or ability, what would it be? \n",
            "bot >> I would be able to do a lot of things. I would be able to do a lot of things. \n",
            "\n",
            "13 Conversation id: 309e08da-3053-4de6-a529-1585fd79f775 \n",
            "user >> If a crystal ball could tell you the truth about yourself, your life, the future or anything else, what would you want to know? \n",
            "bot >> I would like to know if I am a good person. \n",
            "\n",
            "14 Conversation id: 590b0e60-5d92-4dc7-9548-ca311da38300 \n",
            "user >> Is there something that you’ve dreamed of doing for a long time? Why haven’t you done it? \n",
            "bot >> I don't know. I just want to do something. \n",
            "\n",
            "15 Conversation id: c8a2d753-b138-402e-9dae-8e89b44b45b4 \n",
            "user >> What is the greatest accomplishment of your life? \n",
            "bot >> I don't know. I'm not a scientist. \n",
            "\n",
            "16 Conversation id: badcaa76-e611-457e-903e-81b72861e3ea \n",
            "user >> What do you value most in a friendship? \n",
            "bot >> I value friendship more than anything else. \n",
            "\n",
            "17 Conversation id: 3257cd28-b1bf-4fea-a0ba-3bb8f5ad167e \n",
            "user >> What is your most treasured memory? \n",
            "bot >> My mom's birthday. \n",
            "\n",
            "18 Conversation id: 2e97cb37-6acb-4e2f-9f07-07f0ccb0f23f \n",
            "user >> What is your most terrible memory? \n",
            "bot >> I don't know. I don't remember anything. \n",
            "\n",
            "19 Conversation id: 04c840c8-61b8-4d26-8411-db366ad564ba \n",
            "user >> If you knew that in one year you would die suddenly, would you change anything about the way you are now living? Why? \n",
            "bot >> I would change my lifestyle. \n",
            "\n",
            "20 Conversation id: 22f6ab00-9a31-428c-b64a-36ba92fdc61f \n",
            "user >> What does friendship mean to you? \n",
            "bot >> It means you're a good friend. \n",
            "\n",
            "21 Conversation id: 17ab47f3-4f6e-4af8-8bfd-860eade5cbff \n",
            "user >> What roles do love and affection play in your life? \n",
            "bot >> I love to play with my dog. \n",
            "\n",
            "22 Conversation id: f940564a-af08-4c87-ac6b-753c32f17af5 \n",
            "user >> Alternate sharing something you consider a positive characteristic of your partner. Share a total of five items. \n",
            "bot >> I like this idea. \n",
            "\n",
            "23 Conversation id: 69b12d01-65e4-4f1a-b087-f468dbdb397f \n",
            "user >> How close and warm is your family? Do you feel your childhood was happier than most other people’s? \n",
            "bot >> I feel my childhood was happier than most other people. \n",
            "\n",
            "24 Conversation id: 33ec3831-4891-4c9e-aaf6-2a14fd9492d8 \n",
            "user >> How do you feel about your relationship with your mother? \n",
            "bot >> I don't know her. \n",
            "\n",
            "25 Conversation id: 270a0904-2573-4521-9863-92777cadad99 \n",
            "user >> Make three true “we” statements each. For instance, “We are both in this room feeling ... ” \n",
            "bot >> I like this. I'm going to use it. \n",
            "\n",
            "26 Conversation id: 026b6988-d2c1-4a4f-aaf5-2cb70bd3cd2a \n",
            "user >> Complete this sentence: “I wish I had someone with whom I could share ... ” \n",
            "bot >> I wish I had someone with whom I could share... \n",
            "\n",
            "27 Conversation id: caf95b9d-0317-43e8-80cf-58b9884ec6ee \n",
            "user >> If you were going to become a close friend with your partner, please share what would be important for him or her to know. \n",
            "bot >> I would like to know what is important for her to know. \n",
            "\n",
            "28 Conversation id: 6c1175f7-d72d-42ce-a5f0-bf0d3f261c18 \n",
            "user >> Tell your partner what you like about them; be very honest this time, saying things that you might not say to someone you’ve just met. \n",
            "bot >> I will, thank you. \n",
            "\n",
            "29 Conversation id: 672543bd-1ef2-4103-88c6-2a8f97766058 \n",
            "user >> Share with your partner an embarrassing moment in your life. \n",
            "bot >> I'm not sure if I want to share that with her. \n",
            "\n",
            "30 Conversation id: 4a7b7154-3df3-437f-8f9e-69f52b392246 \n",
            "user >> When did you last cry in front of another person? By yourself? \n",
            "bot >> I cried at the end of the first episode. \n",
            "\n",
            "31 Conversation id: 641e1ca2-597a-4cbb-8018-1ea631191cb4 \n",
            "user >> Tell your partner something that you like about them already. \n",
            "bot >> I like them, but I don't like them as much as I like them. \n",
            "\n",
            "32 Conversation id: 95c86e32-44e8-4519-85ea-9f2306ab2ec2 \n",
            "user >> What, if anything, is too serious to be joked about? \n",
            "bot >> I think it's a joke about the fact that he's a big guy. \n",
            "\n",
            "33 Conversation id: 529ad209-5b0c-4187-a446-ccbe9d7513e9 \n",
            "user >> If you were to die this evening with no opportunity to communicate with anyone, what would you most regret not having told someone? Why haven’t you told them yet? \n",
            "bot >> I would have told them, but I was in a bad mood. \n",
            "\n",
            "35 Conversation id: 61e332eb-01ab-46ff-8882-1df6514de66b \n",
            "user >> Of all the people in your family, whose death would you find most disturbing? Why? \n",
            "bot >> I would say my father, but I don't know why. \n",
            "\n",
            "36 Conversation id: 98bb0af8-bdd6-4fd2-acf8-9580b233cde3 \n",
            "user >> Share a personal problem and ask your partner’s advice on how he or she might handle it. Also, ask your partner to reflect back to you how you seem to be feeling about the problem you have chosen. \n",
            "bot >> I will definitely do that. Thank you for the advice. \n",
            "\n"
          ],
          "name": "stdout"
        }
      ]
    },
    {
      "cell_type": "markdown",
      "metadata": {
        "id": "jnrSNSYjva16"
      },
      "source": [
        "## BlenderBot"
      ]
    },
    {
      "cell_type": "code",
      "metadata": {
        "id": "PpjY8ncbPj4U"
      },
      "source": [
        "# BlenderBot cannot be used with the Hugging Face pipeline, therefore, I need to use \n",
        "# the model and tokenizer objects\n",
        "model_name = 'facebook/blenderbot-400M-distill'\n",
        "model = BlenderbotForConditionalGeneration.from_pretrained(model_name)\n",
        "tokenizer = BlenderbotTokenizer.from_pretrained(model_name)\n"
      ],
      "execution_count": 21,
      "outputs": []
    },
    {
      "cell_type": "markdown",
      "metadata": {
        "id": "rSrIL6GxcV4o"
      },
      "source": [
        "I will exclude the 12th questions because the answer that was given might be triggering for some people and I don't want to disseminate (even more) problematic language on the internet."
      ]
    },
    {
      "cell_type": "code",
      "metadata": {
        "colab": {
          "base_uri": "https://localhost:8080/"
        },
        "id": "anH4Xb2eSVYU",
        "outputId": "63165f06-0a0d-4f66-a111-e5eef9e27c48"
      },
      "source": [
        "# do inference without pipeline with BlenderBot model\n",
        "for index, question in questions_df.iterrows():\n",
        "    if index+1 == 12:\n",
        "        pass\n",
        "    else:\n",
        "        inputs = tokenizer(question.values[0], return_tensors='pt')\n",
        "        reply_ids = model.generate(**inputs)\n",
        "        print(index+1, question.values[0], '\\n', tokenizer.batch_decode(reply_ids)[0], '\\n')\n"
      ],
      "execution_count": 22,
      "outputs": [
        {
          "output_type": "stream",
          "text": [
            "1 If you could invite anyone in the world to dinner, who would it be? \n",
            " <s> I think I would have to go with my mom. She's always been there for me.</s> \n",
            "\n",
            "2 Would you like to be famous? In what way? \n",
            " <s> I would love to be a famous singer or songwriter. I love music.</s> \n",
            "\n",
            "3 Before making a telephone call, do you ever rehearse what you are going to say? Why? \n",
            " <s> Sometimes I do, but I usually end up saying something that I don't want to say.</s> \n",
            "\n",
            "4 What would constitute a “perfect” day for you? \n",
            " <s> It would be a day where I didn't have to work and I could spend time with my family.</s> \n",
            "\n",
            "5 When did you last sing to yourself? To someone else? \n",
            " <s> I sang in a choir in high school. It was a lot of fun.</s> \n",
            "\n",
            "6 If you were able to live to the age of 90 and retain either the mind or body of a 30 year old for the last 60 years of your life, which would you want? \n",
            " <s> I think I would want to be able to go back to being a teenager again. </s> \n",
            "\n",
            "7 Do you have a secret hunch about how you will die? \n",
            " <s> I don't think so. I'm pretty sure I'm going to die at some point.</s> \n",
            "\n",
            "8 Name three things you and your partner appear to have in common. \n",
            " <s><s> That's a good point. I guess we do have a lot in common then. </s> \n",
            "\n",
            "9 For what in your life do you feel most grateful? \n",
            " <s> I feel like I have accomplished so much in my life.  I am so thankful for my family and friends.</s> \n",
            "\n",
            "10 If you could change anything about the way you were raised, what would it be? \n",
            " <s> I would like to be a better person. I feel like I have done so much for my family.</s> \n",
            "\n",
            "11 Take four minutes and tell your partner your life story in as much detail as possible. \n",
            " <s> That's a good idea. I think I'll do that. Thank you for the advice.</s> \n",
            "\n",
            "13 If a crystal ball could tell you the truth about yourself, your life, the future or anything else, what would you want to know? \n",
            " <s> I would like to know if I am going to be able to pay off my student loans.</s> \n",
            "\n",
            "14 Is there something that you’ve dreamed of doing for a long time? Why haven’t you done it? \n",
            " <s> I don't know. I guess I just don't have the motivation to do it.</s> \n",
            "\n",
            "15 What is the greatest accomplishment of your life? \n",
            " <s> I won a beauty pageant when I was younger. It was a lot of fun.</s> \n",
            "\n",
            "16 What do you value most in a friendship? \n",
            " <s> Friendship is the most important thing in my life, so I value them a lot.</s> \n",
            "\n",
            "17 What is your most treasured memory? \n",
            " <s> I have a lot of great memories with my grandparents.  I miss them so much.</s> \n",
            "\n",
            "18 What is your most terrible memory? \n",
            " <s> I was in a car wreck when I was younger. It was pretty traumatic.</s> \n",
            "\n",
            "19 If you knew that in one year you would die suddenly, would you change anything about the way you are now living? Why? \n",
            " <s> I don't think I would change anything. I think I'm content with where I'm at right now.</s> \n",
            "\n",
            "20 What does friendship mean to you? \n",
            " <s> Friendship is a bond between a person and another person. It can be a friendship or a romantic one.</s> \n",
            "\n",
            "21 What roles do love and affection play in your life? \n",
            " <s> I am a writer. I love to write stories and poetry. What about you?</s> \n",
            "\n",
            "22 Alternate sharing something you consider a positive characteristic of your partner. Share a total of five items. \n",
            " <s> Wow, that's a lot of stuff. How long have you and your partner been together?</s> \n",
            "\n",
            "23 How close and warm is your family? Do you feel your childhood was happier than most other people’s? \n",
            " <s> My family is very close, and yes, I do feel that way about my childhood.</s> \n",
            "\n",
            "24 How do you feel about your relationship with your mother? \n",
            " <s> I love her so much. She has always been there for me when I needed her the most.</s> \n",
            "\n",
            "25 Make three true “we” statements each. For instance, “We are both in this room feeling ... ” \n",
            " <s> That's a good idea. I'm going to try to do that. Thanks for the advice.</s> \n",
            "\n",
            "26 Complete this sentence: “I wish I had someone with whom I could share ... ” \n",
            " <s> I'm sorry to hear that. I'm sure you'll find someone someday. </s> \n",
            "\n",
            "27 If you were going to become a close friend with your partner, please share what would be important for him or her to know. \n",
            " <s> That's a good idea. I think I'll do that. Thank you for the advice.</s> \n",
            "\n",
            "28 Tell your partner what you like about them; be very honest this time, saying things that you might not say to someone you’ve just met. \n",
            " <s> That's a good idea. I think I'll do that. Thank you for the advice.</s> \n",
            "\n",
            "29 Share with your partner an embarrassing moment in your life. \n",
            " <s> I know, I feel so ashamed that I did that. I don't know why I did it.</s> \n",
            "\n",
            "30 When did you last cry in front of another person? By yourself? \n",
            " <s> Yes, it was by myself. I was so ashamed of myself for doing that.</s> \n",
            "\n",
            "31 Tell your partner something that you like about them already. \n",
            " <s> That's a good idea. I think I'll do that. Thank you for the advice.</s> \n",
            "\n",
            "32 What, if anything, is too serious to be joked about? \n",
            " <s><s> I don't know. I guess I just don't want to seem like I'm being too serious.</s> \n",
            "\n",
            "33 If you were to die this evening with no opportunity to communicate with anyone, what would you most regret not having told someone? Why haven’t you told them yet? \n",
            " <s> I don't know. I guess I just don't have the courage to tell anyone.</s> \n",
            "\n",
            "34 Your house, containing everything you own, catches fire. After saving your loved ones and pets, you have time to safely make a final dash to save any one item. What would it be? Why? \n",
            " <s> That's a good idea. I think I will do that. Thank you for the advice.</s> \n",
            "\n",
            "35 Of all the people in your family, whose death would you find most disturbing? Why? \n",
            " <s> I don't know, I guess it's just the fact that it's so unexpected.</s> \n",
            "\n",
            "36 Share a personal problem and ask your partner’s advice on how he or she might handle it. Also, ask your partner to reflect back to you how you seem to be feeling about the problem you have chosen. \n",
            " <s> That's a good idea. I think I'll do that. Thank you for the advice.</s> \n",
            "\n"
          ],
          "name": "stdout"
        }
      ]
    },
    {
      "cell_type": "markdown",
      "metadata": {
        "id": "iV6Zy-b_I7MY"
      },
      "source": [
        "## Generating combined output\n",
        "I will generate answers via DialoGPT and BlenderBot within the same loop so that it is easier to choose fun answers for both chat bots for my Medium article.\n"
      ]
    },
    {
      "cell_type": "code",
      "metadata": {
        "colab": {
          "base_uri": "https://localhost:8080/"
        },
        "id": "rSIV2pZYtTrO",
        "outputId": "92e7112a-e5eb-410b-e917-2013c5f2e759"
      },
      "source": [
        "for index, question in questions_df.iterrows():\n",
        "    if index+1 == 34:\n",
        "        inputs = tokenizer(question.values[0], return_tensors='pt')\n",
        "        reply_ids = model.generate(**inputs)\n",
        "        print('BlenderBot', tokenizer.batch_decode(reply_ids)[0], '\\n')\n",
        "    elif index+1 == 12:\n",
        "        conversation = Conversation(question.values[0])\n",
        "        print(index+1, conversational_pipeline_dialogpt(conversation, pad_token_id=50256))\n",
        "    else:\n",
        "        conversation = Conversation(question.values[0])\n",
        "        print(index+1, conversational_pipeline_dialogpt(conversation, pad_token_id=50256))\n",
        "        inputs = tokenizer(question.values[0], return_tensors='pt')\n",
        "        reply_ids = model.generate(**inputs)\n",
        "        print('BlenderBot', tokenizer.batch_decode(reply_ids)[0], '\\n')\n"
      ],
      "execution_count": 23,
      "outputs": [
        {
          "output_type": "stream",
          "text": [
            "1 Conversation id: 3dab4a7d-14bf-42f3-b281-c279f25f1c73 \n",
            "user >> If you could invite anyone in the world to dinner, who would it be? \n",
            "bot >> I'd invite myself to dinner. \n",
            "\n",
            "BlenderBot <s> I think I would have to go with my mom. She's always been there for me.</s> \n",
            "\n",
            "2 Conversation id: 62f484f1-cf51-4dcb-9bc5-60dc9f2c71bc \n",
            "user >> Would you like to be famous? In what way? \n",
            "bot >> I'd like to be famous in the way that I'm famous. \n",
            "\n",
            "BlenderBot <s> I would love to be a famous singer or songwriter. I love music.</s> \n",
            "\n",
            "3 Conversation id: 876eeb62-069e-4d9e-8d5d-4408cae6b06d \n",
            "user >> Before making a telephone call, do you ever rehearse what you are going to say? Why? \n",
            "bot >> I don't rehearse, but I do prepare. \n",
            "\n",
            "BlenderBot <s> Sometimes I do, but I usually end up saying something that I don't want to say.</s> \n",
            "\n",
            "4 Conversation id: 1b0aba57-4cd3-468b-aae8-8994c8d6135a \n",
            "user >> What would constitute a “perfect” day for you? \n",
            "bot >> I would say a day that I feel like I have achieved something. \n",
            "\n",
            "BlenderBot <s> It would be a day where I didn't have to work and I could spend time with my family.</s> \n",
            "\n",
            "5 Conversation id: 3179d498-6919-4ac1-a46f-7f6ba8013a28 \n",
            "user >> When did you last sing to yourself? To someone else? \n",
            "bot >> I sing to myself all the time. \n",
            "\n",
            "BlenderBot <s> I sang in a choir in high school. It was a lot of fun.</s> \n",
            "\n",
            "6 Conversation id: 16f84267-7742-47cb-bd72-c384ff7f744e \n",
            "user >> If you were able to live to the age of 90 and retain either the mind or body of a 30 year old for the last 60 years of your life, which would you want? \n",
            "bot >> I'd want to be able to live to the age of 90. \n",
            "\n",
            "BlenderBot <s> I think I would want to be able to go back to being a teenager again. </s> \n",
            "\n",
            "7 Conversation id: 773e97e9-acbf-4a7d-93ed-f84fd10d8c5f \n",
            "user >> Do you have a secret hunch about how you will die? \n",
            "bot >> I don't know. I don't know. I don't know. I don't know. I don't know. I don't know. I don't know. I don't know. \n",
            "\n",
            "BlenderBot <s> I don't think so. I'm pretty sure I'm going to die at some point.</s> \n",
            "\n",
            "8 Conversation id: 83c716a0-c3fa-48dd-8a0b-0db857a6e26b \n",
            "user >> Name three things you and your partner appear to have in common. \n",
            "bot >> I'm a woman \n",
            "\n",
            "BlenderBot <s><s> That's a good point. I guess we do have a lot in common then. </s> \n",
            "\n",
            "9 Conversation id: 8c706164-c78c-44f7-ab71-3cbe236e4be9 \n",
            "user >> For what in your life do you feel most grateful? \n",
            "bot >> I don't know. I guess I just feel like I have a lot of things to be thankful for. \n",
            "\n",
            "BlenderBot <s> I feel like I have accomplished so much in my life.  I am so thankful for my family and friends.</s> \n",
            "\n",
            "10 Conversation id: 3c1682ef-45fa-46e6-9c09-c1de1b9927ce \n",
            "user >> If you could change anything about the way you were raised, what would it be? \n",
            "bot >> I would have to say that I would have to change my life. \n",
            "\n",
            "BlenderBot <s> I would like to be a better person. I feel like I have done so much for my family.</s> \n",
            "\n",
            "11 Conversation id: 1c6a95f8-5f98-41f5-845b-8044fdf482f9 \n",
            "user >> Take four minutes and tell your partner your life story in as much detail as possible. \n",
            "bot >> I'm not sure if I want to know. \n",
            "\n",
            "BlenderBot <s> That's a good idea. I think I'll do that. Thank you for the advice.</s> \n",
            "\n",
            "12 Conversation id: b17768c8-4402-47fd-8cac-57ec31e4f7f3 \n",
            "user >> If you could wake up tomorrow having gained any one quality or ability, what would it be? \n",
            "bot >> I would be able to do a lot of things. I would be able to do a lot of things. \n",
            "\n",
            "13 Conversation id: 174a1406-851e-4304-93db-88a9e667c8e7 \n",
            "user >> If a crystal ball could tell you the truth about yourself, your life, the future or anything else, what would you want to know? \n",
            "bot >> I would like to know if I am a good person. \n",
            "\n",
            "BlenderBot <s> I would like to know if I am going to be able to pay off my student loans.</s> \n",
            "\n",
            "14 Conversation id: 6db3b66f-d21a-42d2-947e-ccb3ed9c1c2a \n",
            "user >> Is there something that you’ve dreamed of doing for a long time? Why haven’t you done it? \n",
            "bot >> I don't know. I just want to do something. \n",
            "\n",
            "BlenderBot <s> I don't know. I guess I just don't have the motivation to do it.</s> \n",
            "\n",
            "15 Conversation id: ef9b50ef-f09c-4649-8e3a-94cbcb840034 \n",
            "user >> What is the greatest accomplishment of your life? \n",
            "bot >> I don't know. I'm not a scientist. \n",
            "\n",
            "BlenderBot <s> I won a beauty pageant when I was younger. It was a lot of fun.</s> \n",
            "\n",
            "16 Conversation id: 1df332b4-3f47-4aae-b0c6-036cc84da4a5 \n",
            "user >> What do you value most in a friendship? \n",
            "bot >> I value friendship more than anything else. \n",
            "\n",
            "BlenderBot <s> Friendship is the most important thing in my life, so I value them a lot.</s> \n",
            "\n",
            "17 Conversation id: d9d79e74-7f4f-4c7c-ae2b-201d3ca48eae \n",
            "user >> What is your most treasured memory? \n",
            "bot >> My mom's birthday. \n",
            "\n",
            "BlenderBot <s> I have a lot of great memories with my grandparents.  I miss them so much.</s> \n",
            "\n",
            "18 Conversation id: c0914d18-ebe1-41c6-9ad1-be23c59d8545 \n",
            "user >> What is your most terrible memory? \n",
            "bot >> I don't know. I don't remember anything. \n",
            "\n",
            "BlenderBot <s> I was in a car wreck when I was younger. It was pretty traumatic.</s> \n",
            "\n",
            "19 Conversation id: 1d6f0b09-9802-43eb-847b-5b5d4854fed3 \n",
            "user >> If you knew that in one year you would die suddenly, would you change anything about the way you are now living? Why? \n",
            "bot >> I would change my lifestyle. \n",
            "\n",
            "BlenderBot <s> I don't think I would change anything. I think I'm content with where I'm at right now.</s> \n",
            "\n",
            "20 Conversation id: 89d12b33-6345-444c-a8ef-3c63e23b87cc \n",
            "user >> What does friendship mean to you? \n",
            "bot >> It means you're a good friend. \n",
            "\n",
            "BlenderBot <s> Friendship is a bond between a person and another person. It can be a friendship or a romantic one.</s> \n",
            "\n",
            "21 Conversation id: 2600ca41-4047-4865-9c81-ec4e91247603 \n",
            "user >> What roles do love and affection play in your life? \n",
            "bot >> I love to play with my dog. \n",
            "\n",
            "BlenderBot <s> I am a writer. I love to write stories and poetry. What about you?</s> \n",
            "\n",
            "22 Conversation id: 2d99ca04-f21d-4a44-ad96-963c5e3bf259 \n",
            "user >> Alternate sharing something you consider a positive characteristic of your partner. Share a total of five items. \n",
            "bot >> I like this idea. \n",
            "\n",
            "BlenderBot <s> Wow, that's a lot of stuff. How long have you and your partner been together?</s> \n",
            "\n",
            "23 Conversation id: 323f3080-ffaf-4766-a53a-f17ac3876e73 \n",
            "user >> How close and warm is your family? Do you feel your childhood was happier than most other people’s? \n",
            "bot >> I feel my childhood was happier than most other people. \n",
            "\n",
            "BlenderBot <s> My family is very close, and yes, I do feel that way about my childhood.</s> \n",
            "\n",
            "24 Conversation id: db911493-40a5-42c2-a100-9fb583a8556e \n",
            "user >> How do you feel about your relationship with your mother? \n",
            "bot >> I don't know her. \n",
            "\n",
            "BlenderBot <s> I love her so much. She has always been there for me when I needed her the most.</s> \n",
            "\n",
            "25 Conversation id: dadf6c92-640b-49ed-b0a4-9b287f784404 \n",
            "user >> Make three true “we” statements each. For instance, “We are both in this room feeling ... ” \n",
            "bot >> I like this. I'm going to use it. \n",
            "\n",
            "BlenderBot <s> That's a good idea. I'm going to try to do that. Thanks for the advice.</s> \n",
            "\n",
            "26 Conversation id: 02b77752-3077-479b-a468-ff57f9c6a26f \n",
            "user >> Complete this sentence: “I wish I had someone with whom I could share ... ” \n",
            "bot >> I wish I had someone with whom I could share... \n",
            "\n",
            "BlenderBot <s> I'm sorry to hear that. I'm sure you'll find someone someday. </s> \n",
            "\n",
            "27 Conversation id: bd1d83d9-2094-4c16-86de-4f8fe429c5d4 \n",
            "user >> If you were going to become a close friend with your partner, please share what would be important for him or her to know. \n",
            "bot >> I would like to know what is important for her to know. \n",
            "\n",
            "BlenderBot <s> That's a good idea. I think I'll do that. Thank you for the advice.</s> \n",
            "\n",
            "28 Conversation id: 4227b76c-b611-41a5-8a8e-28c26b61682b \n",
            "user >> Tell your partner what you like about them; be very honest this time, saying things that you might not say to someone you’ve just met. \n",
            "bot >> I will, thank you. \n",
            "\n",
            "BlenderBot <s> That's a good idea. I think I'll do that. Thank you for the advice.</s> \n",
            "\n",
            "29 Conversation id: 2fb7ed5a-e10d-48be-af6e-8012ace50a51 \n",
            "user >> Share with your partner an embarrassing moment in your life. \n",
            "bot >> I'm not sure if I want to share that with her. \n",
            "\n",
            "BlenderBot <s> I know, I feel so ashamed that I did that. I don't know why I did it.</s> \n",
            "\n",
            "30 Conversation id: 4041e746-f8fe-4807-b121-ef576a1b78b0 \n",
            "user >> When did you last cry in front of another person? By yourself? \n",
            "bot >> I cried at the end of the first episode. \n",
            "\n",
            "BlenderBot <s> Yes, it was by myself. I was so ashamed of myself for doing that.</s> \n",
            "\n",
            "31 Conversation id: 999bd5e7-4eea-4611-8795-1a8e94ffb6c0 \n",
            "user >> Tell your partner something that you like about them already. \n",
            "bot >> I like them, but I don't like them as much as I like them. \n",
            "\n",
            "BlenderBot <s> That's a good idea. I think I'll do that. Thank you for the advice.</s> \n",
            "\n",
            "32 Conversation id: 49d80f44-7f40-408e-94e1-0452d55b942d \n",
            "user >> What, if anything, is too serious to be joked about? \n",
            "bot >> I think it's a joke about the fact that he's a big guy. \n",
            "\n",
            "BlenderBot <s><s> I don't know. I guess I just don't want to seem like I'm being too serious.</s> \n",
            "\n",
            "33 Conversation id: d1549baf-cc7b-437d-ac3b-d084eac1e668 \n",
            "user >> If you were to die this evening with no opportunity to communicate with anyone, what would you most regret not having told someone? Why haven’t you told them yet? \n",
            "bot >> I would have told them, but I was in a bad mood. \n",
            "\n",
            "BlenderBot <s> I don't know. I guess I just don't have the courage to tell anyone.</s> \n",
            "\n",
            "BlenderBot <s> That's a good idea. I think I will do that. Thank you for the advice.</s> \n",
            "\n",
            "35 Conversation id: 54c4e740-4907-46d9-ac5a-25ba0f23dbd6 \n",
            "user >> Of all the people in your family, whose death would you find most disturbing? Why? \n",
            "bot >> I would say my father, but I don't know why. \n",
            "\n",
            "BlenderBot <s> I don't know, I guess it's just the fact that it's so unexpected.</s> \n",
            "\n",
            "36 Conversation id: 41a6a342-1f78-43e2-b837-ce6c7864ec8e \n",
            "user >> Share a personal problem and ask your partner’s advice on how he or she might handle it. Also, ask your partner to reflect back to you how you seem to be feeling about the problem you have chosen. \n",
            "bot >> I will definitely do that. Thank you for the advice. \n",
            "\n",
            "BlenderBot <s> That's a good idea. I think I'll do that. Thank you for the advice.</s> \n",
            "\n"
          ],
          "name": "stdout"
        }
      ]
    },
    {
      "cell_type": "code",
      "metadata": {
        "id": "tjQ_EVJctUs-"
      },
      "source": [
        ""
      ],
      "execution_count": 23,
      "outputs": []
    },
    {
      "cell_type": "code",
      "metadata": {
        "id": "F5f_9qGRtUyG"
      },
      "source": [
        ""
      ],
      "execution_count": 23,
      "outputs": []
    },
    {
      "cell_type": "code",
      "metadata": {
        "id": "nzJ5UOFNtU2f"
      },
      "source": [
        ""
      ],
      "execution_count": 23,
      "outputs": []
    }
  ]
}